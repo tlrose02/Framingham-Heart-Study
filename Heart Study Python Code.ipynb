{
 "cells": [
  {
   "cell_type": "markdown",
   "id": "64f3d50f-a301-4543-a2f1-855c0d4c4709",
   "metadata": {
    "jp-MarkdownHeadingCollapsed": true,
    "tags": []
   },
   "source": [
    "#### Libraries"
   ]
  },
  {
   "cell_type": "code",
   "execution_count": 1,
   "id": "0c6e9a08-ce7a-4b8a-8f0a-441a693b28d2",
   "metadata": {
    "tags": []
   },
   "outputs": [],
   "source": [
    "\n",
    "#%% Importing Libraries\n",
    "import pyodbc\n",
    "import pandas as pd\n",
    "import numpy as np\n",
    "import matplotlib.pyplot as plt\n",
    "import matplotlib.ticker as mtick\n",
    "import seaborn as sns\n",
    "import os\n",
    "from statsmodels.stats.outliers_influence import variance_inflation_factor \n",
    "import datetime\n",
    "import math\n",
    "import glob\n",
    "from datetime import datetime\n",
    "from decimal import Decimal\n",
    "from operator import attrgetter\n",
    "from scipy.stats import chi2_contingency\n",
    "\n",
    "\n",
    "#library(dummies)\n",
    "\n",
    "\n",
    "import pandas as pd\n",
    "import numpy as np\n",
    "import matplotlib.pyplot as plt\n",
    "from sklearn.linear_model import LinearRegression\n",
    "from sklearn.metrics import r2_score\n",
    "import statsmodels.api as sm\n",
    "\n",
    "#from lifelines import KaplanMeierFitter, CoxPHFitter, WeibullAFTFitter\n",
    "\n",
    "# Import sklearn functions\n",
    "import sklearn\n",
    "from sklearn.model_selection import train_test_split, RandomizedSearchCV\n",
    "from sklearn.preprocessing import StandardScaler\n",
    "from sklearn.feature_selection import RFE\n",
    "from sklearn.metrics import roc_auc_score, roc_curve, confusion_matrix, classification_report\n",
    "from sklearn.linear_model import LogisticRegression\n",
    "from sklearn.tree import DecisionTreeClassifier, plot_tree, export_graphviz\n",
    "from sklearn.ensemble import RandomForestClassifier\n",
    "from sklearn.preprocessing import OneHotEncoder\n",
    "\n",
    "pd.set_option('display.max_rows', 200)\n",
    "pd.set_option('display.max_columns',200)\n",
    "pd.set_option('display.width', 200)"
   ]
  },
  {
   "cell_type": "code",
   "execution_count": 2,
   "id": "607fcb05-9a13-41f6-b151-b390d68ea299",
   "metadata": {
    "tags": []
   },
   "outputs": [
    {
     "name": "stdout",
     "output_type": "stream",
     "text": [
      "Automatically created module for IPython interactive environment\n"
     ]
    }
   ],
   "source": [
    "#Importing Libraries\n",
    "import numpy as np\n",
    "import pandas as pd\n",
    "from sklearn.model_selection import train_test_split\n",
    "from sklearn.preprocessing import StandardScaler\n",
    "from sklearn.ensemble import RandomForestClassifier\n",
    "from sklearn.metrics import confusion_matrix\n",
    "#from sklearn.externals import joblib\n",
    "\n",
    "\n",
    "import numpy as np \n",
    "import scipy as sp\n",
    "import pandas as pd\n",
    "import matplotlib.pyplot as plt \n",
    "import seaborn as sns \n",
    "from scipy.stats import norm\n",
    "from sklearn.preprocessing import StandardScaler\n",
    "from scipy import stats\n",
    "import warnings\n",
    "warnings.filterwarnings('ignore')\n",
    "%matplotlib inline\n",
    "\n",
    "from plotly import __version__\n",
    "from plotly.offline import download_plotlyjs, init_notebook_mode, plot, iplot\n",
    "\n",
    "from pprint import pprint\n",
    "\n",
    "\n",
    "#from yellowbrick.features import RFECV\n",
    "\n",
    "from sklearn.ensemble import RandomForestClassifier\n",
    "from sklearn.model_selection import StratifiedKFold\n",
    "\n",
    "\n",
    "from sklearn.model_selection import train_test_split\n",
    "from sklearn.tree import DecisionTreeClassifier\n",
    "from sklearn.feature_selection import RFE\n",
    "\n",
    "from sklearn import metrics\n",
    "from sklearn.ensemble import ExtraTreesClassifier\n",
    "from sklearn.metrics import classification_report,confusion_matrix\n",
    "import sklearn.model_selection as model_selection\n",
    "\n",
    "from IPython.display import Image  \n",
    "#from sklearn.externals.six import StringIO  \n",
    "from sklearn.tree import export_graphviz\n",
    "#import pydot \n",
    "\n",
    "#import mca\n",
    "\n",
    "from random import sample\n",
    "\n",
    "from sklearn import preprocessing\n",
    "\n",
    "from sklearn.model_selection import validation_curve\n",
    "from sklearn.pipeline import make_pipeline\n",
    "from sklearn.metrics import make_scorer\n",
    "\n",
    "from sklearn.metrics import accuracy_score\n",
    "\n",
    "from sklearn.pipeline import Pipeline\n",
    "\n",
    "from sklearn.model_selection import GridSearchCV\n",
    "\n",
    "from collections import Counter\n",
    "\n",
    "\n",
    "from imblearn.datasets import make_imbalance\n",
    "from imblearn.under_sampling import NearMiss\n",
    "from imblearn.pipeline import make_pipeline\n",
    "from imblearn.metrics import classification_report_imbalanced\n",
    " \n",
    "from numpy import mean\n",
    "from sklearn.datasets import make_classification\n",
    "from sklearn.model_selection import cross_val_score\n",
    "from sklearn.model_selection import RepeatedStratifiedKFold\n",
    "from sklearn.ensemble import RandomForestClassifier\n",
    "\n",
    "from sklearn import tree\n",
    "import pydotplus\n",
    "print(__doc__)"
   ]
  },
  {
   "cell_type": "code",
   "execution_count": 3,
   "id": "5a6ecab7-b623-4269-ae27-f5ed6c4de4cc",
   "metadata": {},
   "outputs": [],
   "source": [
    "# Oversample with SMOTE and random undersample for imbalanced dataset\n",
    "from collections import Counter\n",
    "from sklearn.datasets import make_classification\n",
    "from imblearn.over_sampling import SMOTE\n",
    "from imblearn.under_sampling import RandomUnderSampler\n",
    "from imblearn.pipeline import Pipeline\n",
    "from matplotlib import pyplot\n",
    "from numpy import where\n",
    "\n"
   ]
  },
  {
   "cell_type": "code",
   "execution_count": 8,
   "id": "159186cd-edba-4628-a382-0037d9c0a3e1",
   "metadata": {},
   "outputs": [],
   "source": [
    "#pip install pydotplus"
   ]
  },
  {
   "cell_type": "code",
   "execution_count": null,
   "id": "54be49ae-7fc2-4c98-a11f-a498021277c3",
   "metadata": {},
   "outputs": [],
   "source": []
  },
  {
   "cell_type": "markdown",
   "id": "102d7bee-0101-4fff-a317-19dbf72f97ed",
   "metadata": {
    "tags": []
   },
   "source": [
    "#### Dataset Creation"
   ]
  },
  {
   "cell_type": "code",
   "execution_count": 4,
   "id": "54761865-c880-451d-aa06-627e612c5886",
   "metadata": {},
   "outputs": [],
   "source": [
    "directory = 'C:/Users/tleer/Python Projects/Dan Copenhaven Project/Framingham Heart Study/'\n",
    "\n",
    "## Brought from Deficiencies Detail report instead\n",
    "data = pd.read_csv(f'{directory}Data/framingham.csv')"
   ]
  },
  {
   "cell_type": "code",
   "execution_count": 5,
   "id": "b41ef441-1b86-4399-ab79-779dd60ae2a5",
   "metadata": {},
   "outputs": [
    {
     "data": {
      "text/html": [
       "<div>\n",
       "<style scoped>\n",
       "    .dataframe tbody tr th:only-of-type {\n",
       "        vertical-align: middle;\n",
       "    }\n",
       "\n",
       "    .dataframe tbody tr th {\n",
       "        vertical-align: top;\n",
       "    }\n",
       "\n",
       "    .dataframe thead th {\n",
       "        text-align: right;\n",
       "    }\n",
       "</style>\n",
       "<table border=\"1\" class=\"dataframe\">\n",
       "  <thead>\n",
       "    <tr style=\"text-align: right;\">\n",
       "      <th></th>\n",
       "      <th>male</th>\n",
       "      <th>age</th>\n",
       "      <th>education</th>\n",
       "      <th>currentSmoker</th>\n",
       "      <th>cigsPerDay</th>\n",
       "      <th>BPMeds</th>\n",
       "      <th>prevalentStroke</th>\n",
       "      <th>prevalentHyp</th>\n",
       "      <th>diabetes</th>\n",
       "      <th>totChol</th>\n",
       "      <th>sysBP</th>\n",
       "      <th>diaBP</th>\n",
       "      <th>BMI</th>\n",
       "      <th>heartRate</th>\n",
       "      <th>glucose</th>\n",
       "      <th>TenYearCHD</th>\n",
       "    </tr>\n",
       "  </thead>\n",
       "  <tbody>\n",
       "    <tr>\n",
       "      <th>0</th>\n",
       "      <td>1</td>\n",
       "      <td>39</td>\n",
       "      <td>4.0</td>\n",
       "      <td>0</td>\n",
       "      <td>0.0</td>\n",
       "      <td>0.0</td>\n",
       "      <td>0</td>\n",
       "      <td>0</td>\n",
       "      <td>0</td>\n",
       "      <td>195.0</td>\n",
       "      <td>106.0</td>\n",
       "      <td>70.0</td>\n",
       "      <td>26.97</td>\n",
       "      <td>80.0</td>\n",
       "      <td>77.0</td>\n",
       "      <td>0</td>\n",
       "    </tr>\n",
       "    <tr>\n",
       "      <th>1</th>\n",
       "      <td>0</td>\n",
       "      <td>46</td>\n",
       "      <td>2.0</td>\n",
       "      <td>0</td>\n",
       "      <td>0.0</td>\n",
       "      <td>0.0</td>\n",
       "      <td>0</td>\n",
       "      <td>0</td>\n",
       "      <td>0</td>\n",
       "      <td>250.0</td>\n",
       "      <td>121.0</td>\n",
       "      <td>81.0</td>\n",
       "      <td>28.73</td>\n",
       "      <td>95.0</td>\n",
       "      <td>76.0</td>\n",
       "      <td>0</td>\n",
       "    </tr>\n",
       "    <tr>\n",
       "      <th>2</th>\n",
       "      <td>1</td>\n",
       "      <td>48</td>\n",
       "      <td>1.0</td>\n",
       "      <td>1</td>\n",
       "      <td>20.0</td>\n",
       "      <td>0.0</td>\n",
       "      <td>0</td>\n",
       "      <td>0</td>\n",
       "      <td>0</td>\n",
       "      <td>245.0</td>\n",
       "      <td>127.5</td>\n",
       "      <td>80.0</td>\n",
       "      <td>25.34</td>\n",
       "      <td>75.0</td>\n",
       "      <td>70.0</td>\n",
       "      <td>0</td>\n",
       "    </tr>\n",
       "    <tr>\n",
       "      <th>3</th>\n",
       "      <td>0</td>\n",
       "      <td>61</td>\n",
       "      <td>3.0</td>\n",
       "      <td>1</td>\n",
       "      <td>30.0</td>\n",
       "      <td>0.0</td>\n",
       "      <td>0</td>\n",
       "      <td>1</td>\n",
       "      <td>0</td>\n",
       "      <td>225.0</td>\n",
       "      <td>150.0</td>\n",
       "      <td>95.0</td>\n",
       "      <td>28.58</td>\n",
       "      <td>65.0</td>\n",
       "      <td>103.0</td>\n",
       "      <td>1</td>\n",
       "    </tr>\n",
       "    <tr>\n",
       "      <th>4</th>\n",
       "      <td>0</td>\n",
       "      <td>46</td>\n",
       "      <td>3.0</td>\n",
       "      <td>1</td>\n",
       "      <td>23.0</td>\n",
       "      <td>0.0</td>\n",
       "      <td>0</td>\n",
       "      <td>0</td>\n",
       "      <td>0</td>\n",
       "      <td>285.0</td>\n",
       "      <td>130.0</td>\n",
       "      <td>84.0</td>\n",
       "      <td>23.10</td>\n",
       "      <td>85.0</td>\n",
       "      <td>85.0</td>\n",
       "      <td>0</td>\n",
       "    </tr>\n",
       "  </tbody>\n",
       "</table>\n",
       "</div>"
      ],
      "text/plain": [
       "   male  age  education  currentSmoker  cigsPerDay  BPMeds  prevalentStroke  prevalentHyp  diabetes  totChol  sysBP  diaBP    BMI  heartRate  glucose  TenYearCHD\n",
       "0     1   39        4.0              0         0.0     0.0                0             0         0    195.0  106.0   70.0  26.97       80.0     77.0           0\n",
       "1     0   46        2.0              0         0.0     0.0                0             0         0    250.0  121.0   81.0  28.73       95.0     76.0           0\n",
       "2     1   48        1.0              1        20.0     0.0                0             0         0    245.0  127.5   80.0  25.34       75.0     70.0           0\n",
       "3     0   61        3.0              1        30.0     0.0                0             1         0    225.0  150.0   95.0  28.58       65.0    103.0           1\n",
       "4     0   46        3.0              1        23.0     0.0                0             0         0    285.0  130.0   84.0  23.10       85.0     85.0           0"
      ]
     },
     "execution_count": 5,
     "metadata": {},
     "output_type": "execute_result"
    }
   ],
   "source": [
    "data.head()"
   ]
  },
  {
   "cell_type": "code",
   "execution_count": 6,
   "id": "3cd63281-070a-4829-aeeb-89210acdb321",
   "metadata": {},
   "outputs": [
    {
     "name": "stdout",
     "output_type": "stream",
     "text": [
      "<class 'pandas.core.frame.DataFrame'>\n",
      "RangeIndex: 4240 entries, 0 to 4239\n",
      "Data columns (total 16 columns):\n",
      " #   Column           Non-Null Count  Dtype  \n",
      "---  ------           --------------  -----  \n",
      " 0   male             4240 non-null   int64  \n",
      " 1   age              4240 non-null   int64  \n",
      " 2   education        4135 non-null   float64\n",
      " 3   currentSmoker    4240 non-null   int64  \n",
      " 4   cigsPerDay       4211 non-null   float64\n",
      " 5   BPMeds           4187 non-null   float64\n",
      " 6   prevalentStroke  4240 non-null   int64  \n",
      " 7   prevalentHyp     4240 non-null   int64  \n",
      " 8   diabetes         4240 non-null   int64  \n",
      " 9   totChol          4190 non-null   float64\n",
      " 10  sysBP            4240 non-null   float64\n",
      " 11  diaBP            4240 non-null   float64\n",
      " 12  BMI              4221 non-null   float64\n",
      " 13  heartRate        4239 non-null   float64\n",
      " 14  glucose          3852 non-null   float64\n",
      " 15  TenYearCHD       4240 non-null   int64  \n",
      "dtypes: float64(9), int64(7)\n",
      "memory usage: 530.1 KB\n"
     ]
    }
   ],
   "source": [
    "data.info()"
   ]
  },
  {
   "cell_type": "code",
   "execution_count": 7,
   "id": "3a7eca7c-ec3c-448f-bf04-694e7e798ffd",
   "metadata": {},
   "outputs": [
    {
     "data": {
      "text/plain": [
       "male                  2\n",
       "age                  39\n",
       "education             4\n",
       "currentSmoker         2\n",
       "cigsPerDay           33\n",
       "BPMeds                2\n",
       "prevalentStroke       2\n",
       "prevalentHyp          2\n",
       "diabetes              2\n",
       "totChol             248\n",
       "sysBP               234\n",
       "diaBP               146\n",
       "BMI                1364\n",
       "heartRate            73\n",
       "glucose             143\n",
       "TenYearCHD            2\n",
       "dtype: int64"
      ]
     },
     "execution_count": 7,
     "metadata": {},
     "output_type": "execute_result"
    }
   ],
   "source": [
    "data.nunique()"
   ]
  },
  {
   "cell_type": "code",
   "execution_count": 86,
   "id": "4a693feb-910f-4423-86ec-e5f65415af7d",
   "metadata": {
    "tags": []
   },
   "outputs": [
    {
     "name": "stdout",
     "output_type": "stream",
     "text": [
      "<class 'pandas.core.frame.DataFrame'>\n",
      "Int64Index: 3658 entries, 0 to 4239\n",
      "Data columns (total 16 columns):\n",
      " #   Column           Non-Null Count  Dtype  \n",
      "---  ------           --------------  -----  \n",
      " 0   male             3658 non-null   int64  \n",
      " 1   age              3658 non-null   int64  \n",
      " 2   education        3658 non-null   float64\n",
      " 3   currentSmoker    3658 non-null   int64  \n",
      " 4   cigsPerDay       3658 non-null   float64\n",
      " 5   BPMeds           3658 non-null   float64\n",
      " 6   prevalentStroke  3658 non-null   int64  \n",
      " 7   prevalentHyp     3658 non-null   int64  \n",
      " 8   diabetes         3658 non-null   int64  \n",
      " 9   totChol          3658 non-null   float64\n",
      " 10  sysBP            3658 non-null   float64\n",
      " 11  diaBP            3658 non-null   float64\n",
      " 12  BMI              3658 non-null   float64\n",
      " 13  heartRate        3658 non-null   float64\n",
      " 14  glucose          3658 non-null   float64\n",
      " 15  TenYearCHD       3658 non-null   int64  \n",
      "dtypes: float64(9), int64(7)\n",
      "memory usage: 485.8 KB\n"
     ]
    }
   ],
   "source": [
    "#Removing roughly 14% of the data by doing this\n",
    "data2 = data[~(data['glucose'].isna())]\n",
    "data2 = data2[~(data2['education'].isna())]\n",
    "data2 = data2[~(data2['BPMeds'].isna())]\n",
    "data2 = data2[~(data2['cigsPerDay'].isna())]\n",
    "data2 = data2[~(data2['BMI'].isna())]\n",
    "data2 = data2[~(data2['totChol'].isna())]\n",
    "data2 = data2[~(data2['heartRate'].isna())]\n",
    "\n",
    "#data2['male'] = data2['male'].astype('str')\n",
    "#data2['male'] = np.where(data2['male']=='1','male','female')\n",
    "\n",
    "\n",
    "\n",
    "#data2['education'] = data2['male'].astype('str')\n",
    "\n",
    "\n",
    "data2.info()"
   ]
  },
  {
   "cell_type": "code",
   "execution_count": 33,
   "id": "22a1788b-2ec5-4360-a772-516d77c330b0",
   "metadata": {},
   "outputs": [],
   "source": [
    "# https://www.analyticsvidhya.com/blog/2022/05/handling-imbalanced-data-with-imbalance-learn-in-python/#:~:text=Imbalanced%20data%20affects%20the%20performance,class%20to%20keep%20and%20delete."
   ]
  },
  {
   "cell_type": "code",
   "execution_count": null,
   "id": "2019164d-7345-4493-97db-0f20df8f8aba",
   "metadata": {},
   "outputs": [],
   "source": []
  },
  {
   "cell_type": "markdown",
   "id": "3acc3d6a-5853-4343-872e-ce06c01b98bf",
   "metadata": {
    "tags": []
   },
   "source": [
    "#### EDA Visuals"
   ]
  },
  {
   "cell_type": "code",
   "execution_count": 87,
   "id": "47d93b0d-d2a3-42ba-a828-b6345b0db0cb",
   "metadata": {},
   "outputs": [],
   "source": [
    "data3 = data2\n",
    "data3 = data3.drop(['prevalentStroke','diabetes','BPMeds'], axis=1)"
   ]
  },
  {
   "cell_type": "code",
   "execution_count": 88,
   "id": "c31c8ee7-e752-4193-ae6d-444cb1ce950a",
   "metadata": {},
   "outputs": [],
   "source": [
    "#cat_list = ['male','education','currentSmoker','BPMeds','prevalentStroke','prevalentHyp','diabetes','TenYearCHD']\n",
    "#cat_list = ['male','education','currentSmoker','BPMeds','prevalentStroke','prevalentHyp','diabetes']\n",
    "cat_list = ['education']\n",
    "\n",
    "for i in cat_list:\n",
    "    data3[i] = data3[i].astype('str')\n",
    "num_list = data3.select_dtypes(include=np.number).columns.tolist()"
   ]
  },
  {
   "cell_type": "code",
   "execution_count": 49,
   "id": "c6285de1-c821-423e-b242-f4f21e32b15c",
   "metadata": {
    "tags": []
   },
   "outputs": [],
   "source": [
    "#cat_list = ['male','education','currentSmoker','BPMeds','prevalentStroke','prevalentHyp','diabetes','TenYearCHD']\n",
    "cat_list2 = ['male','education','currentSmoker','BPMeds','prevalentStroke','prevalentHyp','diabetes']\n",
    "#cat_list2 = ['male','education','currentSmoker','prevalentHyp']\n",
    "\n",
    "for i in cat_list:\n",
    "    data2[i] = data2[i].astype('str')\n",
    "num_list2 = data2.select_dtypes(include=np.number).columns.tolist()"
   ]
  },
  {
   "cell_type": "code",
   "execution_count": 66,
   "id": "24668406-a812-4635-a336-d6641fd0b63a",
   "metadata": {},
   "outputs": [],
   "source": [
    "#https://towardsdatascience.com/an-overview-of-visual-techniques-for-exploratory-data-analysis-in-python-d35703d43faf"
   ]
  },
  {
   "cell_type": "code",
   "execution_count": 50,
   "id": "14996b4c-cf47-42e7-8dfb-4ca1909ef4c6",
   "metadata": {
    "collapsed": true,
    "jupyter": {
     "outputs_hidden": true
    },
    "tags": []
   },
   "outputs": [
    {
     "data": {
      "text/plain": [
       "male                  2\n",
       "age                  39\n",
       "education             4\n",
       "currentSmoker         2\n",
       "cigsPerDay           33\n",
       "BPMeds                2\n",
       "prevalentStroke       2\n",
       "prevalentHyp          2\n",
       "diabetes              2\n",
       "totChol             241\n",
       "sysBP               231\n",
       "diaBP               142\n",
       "BMI                1298\n",
       "heartRate            72\n",
       "glucose             138\n",
       "TenYearCHD            2\n",
       "dtype: int64"
      ]
     },
     "execution_count": 50,
     "metadata": {},
     "output_type": "execute_result"
    }
   ],
   "source": [
    "data2.nunique()"
   ]
  },
  {
   "cell_type": "code",
   "execution_count": 89,
   "id": "86c1e2e7-bd8b-4f9c-85bc-9a14a611da7b",
   "metadata": {},
   "outputs": [
    {
     "data": {
      "text/plain": [
       "male                2\n",
       "age                39\n",
       "education           4\n",
       "currentSmoker       2\n",
       "cigsPerDay         33\n",
       "prevalentHyp        2\n",
       "totChol           241\n",
       "sysBP             231\n",
       "diaBP             142\n",
       "BMI              1298\n",
       "heartRate          72\n",
       "glucose           138\n",
       "TenYearCHD          2\n",
       "dtype: int64"
      ]
     },
     "execution_count": 89,
     "metadata": {},
     "output_type": "execute_result"
    }
   ],
   "source": [
    "data3.nunique()"
   ]
  },
  {
   "cell_type": "markdown",
   "id": "4f5d5c04-b595-422f-b426-943e98621bcc",
   "metadata": {
    "tags": []
   },
   "source": [
    "#### Categorical Variables"
   ]
  },
  {
   "cell_type": "code",
   "execution_count": 90,
   "id": "478a8735-7d91-48bd-907e-7e730ce70d13",
   "metadata": {},
   "outputs": [
    {
     "data": {
      "text/plain": [
       "1.0    1526\n",
       "2.0    1101\n",
       "3.0     608\n",
       "4.0     423\n",
       "Name: education, dtype: int64"
      ]
     },
     "execution_count": 90,
     "metadata": {},
     "output_type": "execute_result"
    }
   ],
   "source": [
    "#data2.male.value_counts()\n",
    "data3.education.value_counts()\n"
   ]
  },
  {
   "cell_type": "code",
   "execution_count": 91,
   "id": "c02aed71-92f8-4374-b159-bb6a704041c6",
   "metadata": {
    "tags": []
   },
   "outputs": [
    {
     "data": {
      "image/png": "[encoded data removed]",
      "text/plain": [
       "<Figure size 432x288 with 1 Axes>"
      ]
     },
     "metadata": {
      "needs_background": "light"
     },
     "output_type": "display_data"
    }
   ],
   "source": [
    "colors = sns.color_palette('rocket_r')\n",
    "#plt.figure(figsize=(8,8))\n",
    "#sns.set(font_scale=1.2)\n",
    "#plt.xticks(rotation=45)\n",
    "\n",
    "for i in cat_list:\n",
    "    sns.countplot(x=i, data=data3, palette=colors)\n",
    "    plt.show()"
   ]
  },
  {
   "cell_type": "code",
   "execution_count": 52,
   "id": "e717db6f-1634-4cb9-83e6-9c6b6849d47d",
   "metadata": {
    "collapsed": true,
    "jupyter": {
     "outputs_hidden": true
    },
    "tags": []
   },
   "outputs": [
    {
     "data": {
      "image/png": "[encoded data removed]",
      "text/plain": [
       "<Figure size 432x288 with 1 Axes>"
      ]
     },
     "metadata": {
      "needs_background": "light"
     },
     "output_type": "display_data"
    },
    {
     "data": {
      "image/png": "[encoded data removed]",
      "text/plain": [
       "<Figure size 432x288 with 1 Axes>"
      ]
     },
     "metadata": {
      "needs_background": "light"
     },
     "output_type": "display_data"
    },
    {
     "data": {
      "image/png": "[encoded data removed]",
      "text/plain": [
       "<Figure size 432x288 with 1 Axes>"
      ]
     },
     "metadata": {
      "needs_background": "light"
     },
     "output_type": "display_data"
    },
    {
     "data": {
      "image/png": "[encoded data removed]",
      "text/plain": [
       "<Figure size 432x288 with 1 Axes>"
      ]
     },
     "metadata": {
      "needs_background": "light"
     },
     "output_type": "display_data"
    },
    {
     "data": {
      "image/png": "[encoded data removed]",
      "text/plain": [
       "<Figure size 432x288 with 1 Axes>"
      ]
     },
     "metadata": {
      "needs_background": "light"
     },
     "output_type": "display_data"
    },
    {
     "data": {
      "image/png": "[encoded data removed]",
      "text/plain": [
       "<Figure size 432x288 with 1 Axes>"
      ]
     },
     "metadata": {
      "needs_background": "light"
     },
     "output_type": "display_data"
    },
    {
     "data": {
      "image/png": "[encoded data removed]",
      "text/plain": [
       "<Figure size 432x288 with 1 Axes>"
      ]
     },
     "metadata": {
      "needs_background": "light"
     },
     "output_type": "display_data"
    }
   ],
   "source": [
    "colors = sns.color_palette('rocket_r')\n",
    "#plt.figure(figsize=(8,8))\n",
    "#sns.set(font_scale=1.2)\n",
    "#plt.xticks(rotation=45)\n",
    "\n",
    "for i in cat_list2:\n",
    "    sns.countplot(x=i, data=data2, palette=colors)\n",
    "    plt.show()"
   ]
  },
  {
   "cell_type": "markdown",
   "id": "f0172f9d-f698-46ed-aedc-7f2ee0096e9c",
   "metadata": {
    "jp-MarkdownHeadingCollapsed": true,
    "tags": []
   },
   "source": [
    "#### Numerical Variables"
   ]
  },
  {
   "cell_type": "code",
   "execution_count": 92,
   "id": "cf7d74e2-4aaa-499e-bceb-c04cfed3ce46",
   "metadata": {},
   "outputs": [
    {
     "data": {
      "text/plain": [
       "['male',\n",
       " 'age',\n",
       " 'currentSmoker',\n",
       " 'cigsPerDay',\n",
       " 'prevalentHyp',\n",
       " 'totChol',\n",
       " 'sysBP',\n",
       " 'diaBP',\n",
       " 'BMI',\n",
       " 'heartRate',\n",
       " 'glucose',\n",
       " 'TenYearCHD']"
      ]
     },
     "execution_count": 92,
     "metadata": {},
     "output_type": "execute_result"
    }
   ],
   "source": [
    "num_list"
   ]
  },
  {
   "cell_type": "code",
   "execution_count": 53,
   "id": "acf4d089-de68-4f0e-89c8-c5418237a283",
   "metadata": {
    "collapsed": true,
    "jupyter": {
     "outputs_hidden": true
    },
    "tags": []
   },
   "outputs": [
    {
     "data": {
      "text/plain": [
       "array([[<AxesSubplot:title={'center':'age'}>,\n",
       "        <AxesSubplot:title={'center':'cigsPerDay'}>,\n",
       "        <AxesSubplot:title={'center':'BPMeds'}>,\n",
       "        <AxesSubplot:title={'center':'prevalentStroke'}>],\n",
       "       [<AxesSubplot:title={'center':'diabetes'}>,\n",
       "        <AxesSubplot:title={'center':'totChol'}>,\n",
       "        <AxesSubplot:title={'center':'sysBP'}>,\n",
       "        <AxesSubplot:title={'center':'diaBP'}>],\n",
       "       [<AxesSubplot:title={'center':'BMI'}>,\n",
       "        <AxesSubplot:title={'center':'heartRate'}>,\n",
       "        <AxesSubplot:title={'center':'glucose'}>,\n",
       "        <AxesSubplot:title={'center':'TenYearCHD'}>],\n",
       "       [<AxesSubplot:>, <AxesSubplot:>, <AxesSubplot:>, <AxesSubplot:>]],\n",
       "      dtype=object)"
      ]
     },
     "execution_count": 53,
     "metadata": {},
     "output_type": "execute_result"
    },
    {
     "data": {
      "image/png": "[encoded data removed]",
      "text/plain": [
       "<Figure size 1080x864 with 16 Axes>"
      ]
     },
     "metadata": {
      "needs_background": "light"
     },
     "output_type": "display_data"
    }
   ],
   "source": [
    "data2[num_list2].hist(bins=10,figsize=(15,12), layout=(4,4))"
   ]
  },
  {
   "cell_type": "code",
   "execution_count": 93,
   "id": "0065e98b-73dc-449e-b030-5e79a2d9eb4e",
   "metadata": {},
   "outputs": [
    {
     "data": {
      "text/plain": [
       "array([[<AxesSubplot:title={'center':'male'}>,\n",
       "        <AxesSubplot:title={'center':'age'}>,\n",
       "        <AxesSubplot:title={'center':'currentSmoker'}>,\n",
       "        <AxesSubplot:title={'center':'cigsPerDay'}>],\n",
       "       [<AxesSubplot:title={'center':'prevalentHyp'}>,\n",
       "        <AxesSubplot:title={'center':'totChol'}>,\n",
       "        <AxesSubplot:title={'center':'sysBP'}>,\n",
       "        <AxesSubplot:title={'center':'diaBP'}>],\n",
       "       [<AxesSubplot:title={'center':'BMI'}>,\n",
       "        <AxesSubplot:title={'center':'heartRate'}>,\n",
       "        <AxesSubplot:title={'center':'glucose'}>,\n",
       "        <AxesSubplot:title={'center':'TenYearCHD'}>],\n",
       "       [<AxesSubplot:>, <AxesSubplot:>, <AxesSubplot:>, <AxesSubplot:>]],\n",
       "      dtype=object)"
      ]
     },
     "execution_count": 93,
     "metadata": {},
     "output_type": "execute_result"
    },
    {
     "data": {
      "image/png": "[encoded data removed]",
      "text/plain": [
       "<Figure size 1080x864 with 16 Axes>"
      ]
     },
     "metadata": {
      "needs_background": "light"
     },
     "output_type": "display_data"
    }
   ],
   "source": [
    "data3[num_list].hist(bins=10,figsize=(15,12), layout=(4,4))"
   ]
  },
  {
   "cell_type": "markdown",
   "id": "9a671e1b-6ef2-4e4c-8694-29a4c44cb06c",
   "metadata": {
    "jp-MarkdownHeadingCollapsed": true,
    "tags": []
   },
   "source": [
    "#### Frequency for Each Categorical Variable"
   ]
  },
  {
   "cell_type": "code",
   "execution_count": 95,
   "id": "cf7097be-6136-4416-9818-5cffebb623ff",
   "metadata": {},
   "outputs": [],
   "source": [
    "col_list = list(data3.columns)\n"
   ]
  },
  {
   "cell_type": "code",
   "execution_count": 96,
   "id": "a798c586-4dec-4dfa-884d-bcb71f85842e",
   "metadata": {},
   "outputs": [
    {
     "data": {
      "text/plain": [
       "['education']"
      ]
     },
     "execution_count": 96,
     "metadata": {},
     "output_type": "execute_result"
    }
   ],
   "source": [
    "cat_list"
   ]
  },
  {
   "cell_type": "code",
   "execution_count": 99,
   "id": "63bbdc4a-083b-43b6-af94-2b18dc349e73",
   "metadata": {
    "collapsed": true,
    "jupyter": {
     "outputs_hidden": true
    },
    "tags": []
   },
   "outputs": [
    {
     "data": {
      "text/plain": [
       "<AxesSubplot:xlabel='diabetes'>"
      ]
     },
     "execution_count": 99,
     "metadata": {},
     "output_type": "execute_result"
    },
    {
     "data": {
      "image/png": "[encoded data removed]",
      "text/plain": [
       "<Figure size 432x288 with 1 Axes>"
      ]
     },
     "metadata": {},
     "output_type": "display_data"
    },
    {
     "data": {
      "image/png": "[encoded data removed]",
      "text/plain": [
       "<Figure size 432x288 with 1 Axes>"
      ]
     },
     "metadata": {},
     "output_type": "display_data"
    },
    {
     "data": {
      "image/png": "[encoded data removed]",
      "text/plain": [
       "<Figure size 432x288 with 1 Axes>"
      ]
     },
     "metadata": {},
     "output_type": "display_data"
    },
    {
     "data": {
      "image/png": "[encoded data removed]",
      "text/plain": [
       "<Figure size 432x288 with 1 Axes>"
      ]
     },
     "metadata": {},
     "output_type": "display_data"
    },
    {
     "data": {
      "image/png": "[encoded data removed]",
      "text/plain": [
       "<Figure size 432x288 with 1 Axes>"
      ]
     },
     "metadata": {},
     "output_type": "display_data"
    },
    {
     "data": {
      "image/png": "[encoded data removed]",
      "text/plain": [
       "<Figure size 432x288 with 1 Axes>"
      ]
     },
     "metadata": {},
     "output_type": "display_data"
    },
    {
     "data": {
      "image/png": "[encoded data removed]",
      "text/plain": [
       "<Figure size 432x288 with 1 Axes>"
      ]
     },
     "metadata": {},
     "output_type": "display_data"
    }
   ],
   "source": [
    "pd.crosstab(data2.male, data.TenYearCHD).plot(kind='bar')\n",
    "pd.crosstab(data2.education, data.TenYearCHD).plot(kind='bar')\n",
    "pd.crosstab(data2.currentSmoker, data.TenYearCHD).plot(kind='bar')\n",
    "pd.crosstab(data2.BPMeds, data.TenYearCHD).plot(kind='bar')\n",
    "pd.crosstab(data2.prevalentStroke, data.TenYearCHD).plot(kind='bar')\n",
    "pd.crosstab(data2.prevalentHyp, data.TenYearCHD).plot(kind='bar')\n",
    "pd.crosstab(data2.diabetes, data.TenYearCHD).plot(kind='bar')\n"
   ]
  },
  {
   "cell_type": "code",
   "execution_count": 97,
   "id": "f2d28baa-a41b-4313-9bc7-45188f7ec379",
   "metadata": {
    "tags": []
   },
   "outputs": [
    {
     "data": {
      "text/plain": [
       "<AxesSubplot:xlabel='prevalentHyp'>"
      ]
     },
     "execution_count": 97,
     "metadata": {},
     "output_type": "execute_result"
    },
    {
     "data": {
      "image/png": "[encoded data removed]",
      "text/plain": [
       "<Figure size 432x288 with 1 Axes>"
      ]
     },
     "metadata": {
      "needs_background": "light"
     },
     "output_type": "display_data"
    },
    {
     "data": {
      "image/png": "[encoded data removed]",
      "text/plain": [
       "<Figure size 432x288 with 1 Axes>"
      ]
     },
     "metadata": {
      "needs_background": "light"
     },
     "output_type": "display_data"
    },
    {
     "data": {
      "image/png": "[encoded data removed]",
      "text/plain": [
       "<Figure size 432x288 with 1 Axes>"
      ]
     },
     "metadata": {
      "needs_background": "light"
     },
     "output_type": "display_data"
    },
    {
     "data": {
      "image/png": "[encoded data removed]",
      "text/plain": [
       "<Figure size 432x288 with 1 Axes>"
      ]
     },
     "metadata": {
      "needs_background": "light"
     },
     "output_type": "display_data"
    }
   ],
   "source": [
    "pd.crosstab(data3.male, data.TenYearCHD).plot(kind='bar')\n",
    "pd.crosstab(data3.education, data.TenYearCHD).plot(kind='bar')\n",
    "pd.crosstab(data3.currentSmoker, data.TenYearCHD).plot(kind='bar')\n",
    "pd.crosstab(data3.prevalentHyp, data.TenYearCHD).plot(kind='bar')\n"
   ]
  },
  {
   "cell_type": "code",
   "execution_count": 89,
   "id": "559841c7-7f12-40e1-8fbe-213e1b0b7075",
   "metadata": {},
   "outputs": [],
   "source": [
    "#data2.diabetes.value_counts()\n"
   ]
  },
  {
   "cell_type": "markdown",
   "id": "639657e8-daa8-4a6c-a3b5-06c20f982c58",
   "metadata": {
    "jp-MarkdownHeadingCollapsed": true,
    "tags": []
   },
   "source": [
    "#### Create Dummy Variables"
   ]
  },
  {
   "cell_type": "code",
   "execution_count": null,
   "id": "e7cb1c61-bbf7-4878-ba6e-e175f021fda6",
   "metadata": {},
   "outputs": [],
   "source": [
    "# https://www.analyticsvidhya.com/blog/2022/05/handling-imbalanced-data-with-imbalance-learn-in-python/#:~:text=Imbalanced%20data%20affects%20the%20performance,class%20to%20keep%20and%20delete.\n",
    "\n",
    "# https://towardsdatascience.com/building-a-logistic-regression-in-python-step-by-step-becd4d56c9c8"
   ]
  },
  {
   "cell_type": "code",
   "execution_count": 98,
   "id": "4b646bf3-6f0d-4f4f-b1b4-a1d18e3f30cb",
   "metadata": {},
   "outputs": [
    {
     "data": {
      "text/plain": [
       "['education']"
      ]
     },
     "execution_count": 98,
     "metadata": {},
     "output_type": "execute_result"
    }
   ],
   "source": [
    "cat_list"
   ]
  },
  {
   "cell_type": "code",
   "execution_count": 99,
   "id": "13fcbfd5-c045-4b9d-a257-a947a2579e81",
   "metadata": {},
   "outputs": [
    {
     "name": "stdout",
     "output_type": "stream",
     "text": [
      "557\n",
      "3101\n",
      "5.567324955116697\n",
      "0.1796194775878749\n"
     ]
    }
   ],
   "source": [
    "#data2.TenYearCHD.value_counts()\n",
    "#risk = len(data2[data2['TenYearCHD'] == 1])\n",
    "#no_risk = len(data2[data2['TenYearCHD'] == 0])\n",
    "#class_distribution_ratio = no_risk/risk\n",
    "#ratio_risk_no_risk = risk/no_risk\n",
    "\n",
    "data3.TenYearCHD.value_counts()\n",
    "risk = len(data3[data3['TenYearCHD'] == 1])\n",
    "no_risk = len(data3[data3['TenYearCHD'] == 0])\n",
    "class_distribution_ratio = no_risk/risk\n",
    "ratio_risk_no_risk = risk/no_risk\n",
    "\n",
    "print(risk)\n",
    "print(no_risk)\n",
    "print(class_distribution_ratio)\n",
    "print(ratio_risk_no_risk)"
   ]
  },
  {
   "cell_type": "code",
   "execution_count": 100,
   "id": "3f58974c-52cc-4ced-bec4-57d39a2bf135",
   "metadata": {},
   "outputs": [],
   "source": [
    "#cat_list.remove('TenYearCHD') \n",
    "\n",
    "dummy_list = ['education']\n",
    "\n",
    "data4 = pd.get_dummies(data=data3, columns=[col for col in data3.columns if col in dummy_list], drop_first=True)\n",
    "#data3 = pd.get_dummies(data=data2, columns=[col for col in data2.columns if col in cat_list], drop_first=True)\n"
   ]
  },
  {
   "cell_type": "code",
   "execution_count": 101,
   "id": "84fc4189-35f4-46b2-b1c2-6310d317991c",
   "metadata": {},
   "outputs": [
    {
     "data": {
      "text/html": [
       "<div>\n",
       "<style scoped>\n",
       "    .dataframe tbody tr th:only-of-type {\n",
       "        vertical-align: middle;\n",
       "    }\n",
       "\n",
       "    .dataframe tbody tr th {\n",
       "        vertical-align: top;\n",
       "    }\n",
       "\n",
       "    .dataframe thead th {\n",
       "        text-align: right;\n",
       "    }\n",
       "</style>\n",
       "<table border=\"1\" class=\"dataframe\">\n",
       "  <thead>\n",
       "    <tr style=\"text-align: right;\">\n",
       "      <th></th>\n",
       "      <th>male</th>\n",
       "      <th>age</th>\n",
       "      <th>currentSmoker</th>\n",
       "      <th>cigsPerDay</th>\n",
       "      <th>prevalentHyp</th>\n",
       "      <th>totChol</th>\n",
       "      <th>sysBP</th>\n",
       "      <th>diaBP</th>\n",
       "      <th>BMI</th>\n",
       "      <th>heartRate</th>\n",
       "      <th>glucose</th>\n",
       "      <th>TenYearCHD</th>\n",
       "      <th>education_2.0</th>\n",
       "      <th>education_3.0</th>\n",
       "      <th>education_4.0</th>\n",
       "    </tr>\n",
       "  </thead>\n",
       "  <tbody>\n",
       "    <tr>\n",
       "      <th>0</th>\n",
       "      <td>1</td>\n",
       "      <td>39</td>\n",
       "      <td>0</td>\n",
       "      <td>0.0</td>\n",
       "      <td>0</td>\n",
       "      <td>195.0</td>\n",
       "      <td>106.0</td>\n",
       "      <td>70.0</td>\n",
       "      <td>26.97</td>\n",
       "      <td>80.0</td>\n",
       "      <td>77.0</td>\n",
       "      <td>0</td>\n",
       "      <td>0</td>\n",
       "      <td>0</td>\n",
       "      <td>1</td>\n",
       "    </tr>\n",
       "    <tr>\n",
       "      <th>1</th>\n",
       "      <td>0</td>\n",
       "      <td>46</td>\n",
       "      <td>0</td>\n",
       "      <td>0.0</td>\n",
       "      <td>0</td>\n",
       "      <td>250.0</td>\n",
       "      <td>121.0</td>\n",
       "      <td>81.0</td>\n",
       "      <td>28.73</td>\n",
       "      <td>95.0</td>\n",
       "      <td>76.0</td>\n",
       "      <td>0</td>\n",
       "      <td>1</td>\n",
       "      <td>0</td>\n",
       "      <td>0</td>\n",
       "    </tr>\n",
       "    <tr>\n",
       "      <th>2</th>\n",
       "      <td>1</td>\n",
       "      <td>48</td>\n",
       "      <td>1</td>\n",
       "      <td>20.0</td>\n",
       "      <td>0</td>\n",
       "      <td>245.0</td>\n",
       "      <td>127.5</td>\n",
       "      <td>80.0</td>\n",
       "      <td>25.34</td>\n",
       "      <td>75.0</td>\n",
       "      <td>70.0</td>\n",
       "      <td>0</td>\n",
       "      <td>0</td>\n",
       "      <td>0</td>\n",
       "      <td>0</td>\n",
       "    </tr>\n",
       "    <tr>\n",
       "      <th>3</th>\n",
       "      <td>0</td>\n",
       "      <td>61</td>\n",
       "      <td>1</td>\n",
       "      <td>30.0</td>\n",
       "      <td>1</td>\n",
       "      <td>225.0</td>\n",
       "      <td>150.0</td>\n",
       "      <td>95.0</td>\n",
       "      <td>28.58</td>\n",
       "      <td>65.0</td>\n",
       "      <td>103.0</td>\n",
       "      <td>1</td>\n",
       "      <td>0</td>\n",
       "      <td>1</td>\n",
       "      <td>0</td>\n",
       "    </tr>\n",
       "    <tr>\n",
       "      <th>4</th>\n",
       "      <td>0</td>\n",
       "      <td>46</td>\n",
       "      <td>1</td>\n",
       "      <td>23.0</td>\n",
       "      <td>0</td>\n",
       "      <td>285.0</td>\n",
       "      <td>130.0</td>\n",
       "      <td>84.0</td>\n",
       "      <td>23.10</td>\n",
       "      <td>85.0</td>\n",
       "      <td>85.0</td>\n",
       "      <td>0</td>\n",
       "      <td>0</td>\n",
       "      <td>1</td>\n",
       "      <td>0</td>\n",
       "    </tr>\n",
       "  </tbody>\n",
       "</table>\n",
       "</div>"
      ],
      "text/plain": [
       "   male  age  currentSmoker  cigsPerDay  prevalentHyp  totChol  sysBP  diaBP    BMI  heartRate  glucose  TenYearCHD  education_2.0  education_3.0  education_4.0\n",
       "0     1   39              0         0.0             0    195.0  106.0   70.0  26.97       80.0     77.0           0              0              0              1\n",
       "1     0   46              0         0.0             0    250.0  121.0   81.0  28.73       95.0     76.0           0              1              0              0\n",
       "2     1   48              1        20.0             0    245.0  127.5   80.0  25.34       75.0     70.0           0              0              0              0\n",
       "3     0   61              1        30.0             1    225.0  150.0   95.0  28.58       65.0    103.0           1              0              1              0\n",
       "4     0   46              1        23.0             0    285.0  130.0   84.0  23.10       85.0     85.0           0              0              1              0"
      ]
     },
     "execution_count": 101,
     "metadata": {},
     "output_type": "execute_result"
    }
   ],
   "source": [
    "data4.head()"
   ]
  },
  {
   "cell_type": "code",
   "execution_count": 102,
   "id": "bf4d1714-a70d-4b86-9195-96b67433fb1c",
   "metadata": {},
   "outputs": [
    {
     "data": {
      "text/plain": [
       "array(['male', 'age', 'currentSmoker', 'cigsPerDay', 'prevalentHyp',\n",
       "       'totChol', 'sysBP', 'diaBP', 'BMI', 'heartRate', 'glucose',\n",
       "       'TenYearCHD', 'education_2.0', 'education_3.0', 'education_4.0'],\n",
       "      dtype=object)"
      ]
     },
     "execution_count": 102,
     "metadata": {},
     "output_type": "execute_result"
    }
   ],
   "source": [
    "data4.columns.values\n",
    "#data3.columns.values"
   ]
  },
  {
   "cell_type": "markdown",
   "id": "ac552a42-86b9-41e5-a8a4-9a48aea76bcf",
   "metadata": {
    "tags": []
   },
   "source": [
    "#### Train Test Split and Over-sampling using SMOTE"
   ]
  },
  {
   "cell_type": "code",
   "execution_count": 91,
   "id": "39f5f994-ffcc-4508-b925-ec6e1c50d164",
   "metadata": {},
   "outputs": [],
   "source": [
    "# https://towardsdatascience.com/building-a-logistic-regression-in-python-step-by-step-becd4d56c9c8\n",
    "# https://machinelearningmastery.com/smote-oversampling-for-imbalanced-classification/\n",
    "\n",
    "## At a high level, SMOTE:\n",
    "#### 1. Works by creating synthetic samples from the minor class (no-TenYearCHD) instead of creating copies.\n",
    "#### 2. Randomly choosing one of the k-nearest neighbors and using it to create a similar, but randomly tweaked, new observations"
   ]
  },
  {
   "cell_type": "code",
   "execution_count": 103,
   "id": "c1b3a364-4f6c-4598-9b4d-1471a2986fe5",
   "metadata": {},
   "outputs": [],
   "source": [
    "X = data4.loc[:, data4.columns != 'TenYearCHD']\n",
    "y = data4.loc[:, data4.columns == 'TenYearCHD']\n",
    "\n",
    "#X = data3.loc[:, data3.columns != 'TenYearCHD']\n",
    "#y = data3.loc[:, data3.columns == 'TenYearCHD']"
   ]
  },
  {
   "cell_type": "code",
   "execution_count": 104,
   "id": "c3c6444b-69c3-40dd-8f55-1f47615ac609",
   "metadata": {},
   "outputs": [],
   "source": [
    "from imblearn.over_sampling import SMOTE"
   ]
  },
  {
   "cell_type": "code",
   "execution_count": 105,
   "id": "1b036e9c-6283-44b7-8867-9f683f290607",
   "metadata": {},
   "outputs": [],
   "source": [
    "os = SMOTE(random_state=0)\n",
    "X_train, X_test, y_train, y_test = train_test_split(X, y, test_size=0.3, random_state=0)\n",
    "columns = X_train.columns"
   ]
  },
  {
   "cell_type": "code",
   "execution_count": 106,
   "id": "6bd789ff-1735-4cfd-9607-bf822c8aac16",
   "metadata": {},
   "outputs": [],
   "source": [
    "os_data_X,os_data_y=os.fit_sample(X_train, y_train)\n"
   ]
  },
  {
   "cell_type": "code",
   "execution_count": 107,
   "id": "78cb5d9e-f644-4b9e-a490-e6d545fddc4a",
   "metadata": {},
   "outputs": [],
   "source": [
    "os_data_X,os_data_y=os.fit_sample(X_train, y_train)\n",
    "os_data_X = pd.DataFrame(data=os_data_X,columns=columns )\n",
    "os_data_y= pd.DataFrame(data=os_data_y,columns=['TenYearCHD'])"
   ]
  },
  {
   "cell_type": "code",
   "execution_count": 108,
   "id": "b83ef782-da07-48e3-86a5-b40bc48dcbac",
   "metadata": {},
   "outputs": [
    {
     "name": "stdout",
     "output_type": "stream",
     "text": [
      "Length of oversampled data is  4370\n",
      "Number of no TenYearCHD in oversampled data 2185\n",
      "Number of TenYearCHD 2185\n",
      "Proportion of no TenYearCHD data in oversampled data is  0.5\n",
      "Proportion of TenYearCHD data in oversampled data is  0.5\n"
     ]
    }
   ],
   "source": [
    "# we can Check the numbers of our data\n",
    "print(\"Length of oversampled data is \",len(os_data_X))\n",
    "print(\"Number of no TenYearCHD in oversampled data\",len(os_data_y[os_data_y['TenYearCHD']==0]))\n",
    "print(\"Number of TenYearCHD\",len(os_data_y[os_data_y['TenYearCHD']==1]))\n",
    "print(\"Proportion of no TenYearCHD data in oversampled data is \",len(os_data_y[os_data_y['TenYearCHD']==0])/len(os_data_X))\n",
    "print(\"Proportion of TenYearCHD data in oversampled data is \",len(os_data_y[os_data_y['TenYearCHD']==1])/len(os_data_X))"
   ]
  },
  {
   "cell_type": "code",
   "execution_count": 118,
   "id": "2beb19c3-df0f-4806-a5f5-3026980ed463",
   "metadata": {},
   "outputs": [],
   "source": [
    "#You may have noticed that I over-sampled only on the training data, \n",
    "#because by oversampling only on the training data, none of the information \n",
    "#in the test data is being used to create synthetic observations, therefore, \n",
    "#no information will bleed from test data into the model training."
   ]
  },
  {
   "cell_type": "markdown",
   "id": "93a6c76a-e4de-44f5-85ae-ebddf09171d6",
   "metadata": {
    "tags": []
   },
   "source": [
    "#### Recursive Feature Elimination"
   ]
  },
  {
   "cell_type": "code",
   "execution_count": 114,
   "id": "5b87bf88-0f69-446f-98b5-9eca1ef624ba",
   "metadata": {},
   "outputs": [],
   "source": [
    "data_final_vars = data4.columns.values.tolist()\n",
    "y = ['TenYearCHD']\n",
    "X = [i for i in data_final_vars if i not in y]"
   ]
  },
  {
   "cell_type": "code",
   "execution_count": 110,
   "id": "3f0e2cbc-9313-4392-80ff-3b40b7c98e90",
   "metadata": {},
   "outputs": [],
   "source": [
    "from sklearn.feature_selection import RFE\n",
    "from sklearn.linear_model import LogisticRegression\n",
    "logreg = LogisticRegression()"
   ]
  },
  {
   "cell_type": "code",
   "execution_count": null,
   "id": "7cc182cb-ddb1-4bfd-ab91-386d412e7509",
   "metadata": {},
   "outputs": [],
   "source": []
  },
  {
   "cell_type": "code",
   "execution_count": 111,
   "id": "528ecd75-1889-4aeb-91b0-c144dffd6da5",
   "metadata": {},
   "outputs": [
    {
     "name": "stdout",
     "output_type": "stream",
     "text": [
      "[ True  True  True  True  True  True  True  True  True  True  True  True\n",
      "  True  True]\n",
      "[1 1 1 1 1 1 1 1 1 1 1 1 1 1]\n"
     ]
    }
   ],
   "source": [
    "rfe = RFE(logreg, n_features_to_select=20)\n",
    "rfe = rfe.fit(os_data_X, os_data_y.values.ravel())\n",
    "print(rfe.support_)\n",
    "print(rfe.ranking_)"
   ]
  },
  {
   "cell_type": "code",
   "execution_count": 112,
   "id": "cddba102-1d13-40b6-a38e-6346b4faef73",
   "metadata": {},
   "outputs": [
    {
     "data": {
      "text/plain": [
       "['male',\n",
       " 'age',\n",
       " 'currentSmoker',\n",
       " 'cigsPerDay',\n",
       " 'prevalentHyp',\n",
       " 'totChol',\n",
       " 'sysBP',\n",
       " 'diaBP',\n",
       " 'BMI',\n",
       " 'heartRate',\n",
       " 'glucose',\n",
       " 'education_2.0',\n",
       " 'education_3.0',\n",
       " 'education_4.0']"
      ]
     },
     "execution_count": 112,
     "metadata": {},
     "output_type": "execute_result"
    }
   ],
   "source": [
    "X"
   ]
  },
  {
   "cell_type": "code",
   "execution_count": 115,
   "id": "b3f38247-ca88-45a2-9e0e-56c8711c31de",
   "metadata": {},
   "outputs": [
    {
     "ename": "AttributeError",
     "evalue": "'list' object has no attribute 'dtypes'",
     "output_type": "error",
     "traceback": [
      "\u001b[1;31m---------------------------------------------------------------------------\u001b[0m",
      "\u001b[1;31mAttributeError\u001b[0m                            Traceback (most recent call last)",
      "\u001b[1;32m<ipython-input-115-45c615031b96>\u001b[0m in \u001b[0;36m<module>\u001b[1;34m\u001b[0m\n\u001b[1;32m----> 1\u001b[1;33m \u001b[0mX\u001b[0m\u001b[1;33m.\u001b[0m\u001b[0mdtypes\u001b[0m\u001b[1;33m\u001b[0m\u001b[1;33m\u001b[0m\u001b[0m\n\u001b[0m",
      "\u001b[1;31mAttributeError\u001b[0m: 'list' object has no attribute 'dtypes'"
     ]
    }
   ],
   "source": []
  },
  {
   "cell_type": "code",
   "execution_count": 116,
   "id": "e8a7e2f1-44f3-4062-b45f-d98800872727",
   "metadata": {},
   "outputs": [],
   "source": [
    "\n",
    "cols = ['male',\n",
    " 'age',\n",
    " 'currentSmoker',\n",
    " 'cigsPerDay',\n",
    " 'prevalentHyp',\n",
    " 'totChol',\n",
    " 'sysBP',\n",
    " 'diaBP',\n",
    " 'BMI',\n",
    " 'heartRate',\n",
    " 'glucose',\n",
    " 'education_2.0',\n",
    " 'education_3.0',\n",
    " 'education_4.0']\n"
   ]
  },
  {
   "cell_type": "code",
   "execution_count": 117,
   "id": "78e53c5e-960f-49e6-9f6f-08ab6f637354",
   "metadata": {},
   "outputs": [],
   "source": [
    "X=os_data_X[cols]\n",
    "y=os_data_y['TenYearCHD']\n"
   ]
  },
  {
   "cell_type": "code",
   "execution_count": 118,
   "id": "62d231ac-bd12-4ccd-a8dd-a98e43845816",
   "metadata": {},
   "outputs": [
    {
     "name": "stdout",
     "output_type": "stream",
     "text": [
      "Optimization terminated successfully.\n",
      "         Current function value: 0.537983\n",
      "         Iterations 6\n",
      "                          Results: Logit\n",
      "==================================================================\n",
      "Model:              Logit            Pseudo R-squared: 0.224      \n",
      "Dependent Variable: TenYearCHD       AIC:              4729.9708  \n",
      "Date:               2023-01-29 17:10 BIC:              4819.3261  \n",
      "No. Observations:   4370             Log-Likelihood:   -2351.0    \n",
      "Df Model:           13               LL-Null:          -3029.1    \n",
      "Df Residuals:       4356             LLR p-value:      4.3174e-282\n",
      "Converged:          1.0000           Scale:            1.0000     \n",
      "No. Iterations:     6.0000                                        \n",
      "------------------------------------------------------------------\n",
      "                   Coef.  Std.Err.    z     P>|z|   [0.025  0.975]\n",
      "------------------------------------------------------------------\n",
      "male              -0.4255   0.0805  -5.2895 0.0000 -0.5832 -0.2679\n",
      "age                0.0143   0.0047   3.0176 0.0025  0.0050  0.0236\n",
      "currentSmoker     -1.0128   0.1238  -8.1785 0.0000 -1.2555 -0.7701\n",
      "cigsPerDay         0.0585   0.0056  10.5387 0.0000  0.0477  0.0694\n",
      "prevalentHyp       0.0096   0.0964   0.0996 0.9207 -0.1793  0.1985\n",
      "totChol            0.0010   0.0008   1.1973 0.2312 -0.0006  0.0026\n",
      "sysBP              0.0163   0.0032   5.1327 0.0000  0.0101  0.0225\n",
      "diaBP              0.0001   0.0049   0.0128 0.9898 -0.0096  0.0097\n",
      "BMI               -0.0348   0.0094  -3.6866 0.0002 -0.0533 -0.0163\n",
      "heartRate         -0.0244   0.0031  -7.8567 0.0000 -0.0305 -0.0183\n",
      "glucose            0.0047   0.0015   3.2141 0.0013  0.0018  0.0076\n",
      "education_2.0     -1.9050   0.0969 -19.6562 0.0000 -2.0950 -1.7151\n",
      "education_3.0     -2.4643   0.1430 -17.2298 0.0000 -2.7447 -2.1840\n",
      "education_4.0     -1.9639   0.1492 -13.1657 0.0000 -2.2562 -1.6715\n",
      "==================================================================\n",
      "\n"
     ]
    }
   ],
   "source": [
    "import statsmodels.api as sm\n",
    "logit_model=sm.Logit(y,X)\n",
    "result=logit_model.fit()\n",
    "print(result.summary2())"
   ]
  },
  {
   "cell_type": "code",
   "execution_count": null,
   "id": "40ee76a9-37ee-4e90-b3d4-9405c5c0406f",
   "metadata": {},
   "outputs": [],
   "source": []
  }
 ],
 "metadata": {
  "kernelspec": {
   "display_name": "Python 3",
   "language": "python",
   "name": "python3"
  },
  "language_info": {
   "codemirror_mode": {
    "name": "ipython",
    "version": 3
   },
   "file_extension": ".py",
   "mimetype": "text/x-python",
   "name": "python",
   "nbconvert_exporter": "python",
   "pygments_lexer": "ipython3",
   "version": "3.7.13"
  }
 },
 "nbformat": 4,
 "nbformat_minor": 5
}
